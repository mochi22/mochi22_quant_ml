{
 "cells": [
  {
   "cell_type": "code",
   "execution_count": 2,
   "id": "00dee0dd",
   "metadata": {},
   "outputs": [
    {
     "name": "stdout",
     "output_type": "stream",
     "text": [
      "Collecting ccxt\n",
      "  Downloading ccxt-4.4.89-py2.py3-none-any.whl (5.8 MB)\n",
      "     ---------------------------------------- 0.0/5.8 MB ? eta -:--:--\n",
      "     ----- ---------------------------------- 0.9/5.8 MB 27.4 MB/s eta 0:00:01\n",
      "     ----------------- ---------------------- 2.6/5.8 MB 33.1 MB/s eta 0:00:01\n",
      "     --------------------------------- ------ 4.9/5.8 MB 38.9 MB/s eta 0:00:01\n",
      "     ---------------------------------------- 5.8/5.8 MB 36.9 MB/s eta 0:00:00\n",
      "Collecting cryptography>=2.6.1\n",
      "  Downloading cryptography-45.0.4-cp37-abi3-win_amd64.whl (3.4 MB)\n",
      "     ---------------------------------------- 0.0/3.4 MB ? eta -:--:--\n",
      "     ---------------------------------------  3.3/3.4 MB 107.4 MB/s eta 0:00:01\n",
      "     ---------------------------------------- 3.4/3.4 MB 72.0 MB/s eta 0:00:00\n",
      "Collecting aiodns>=1.1.1\n",
      "  Downloading aiodns-3.5.0-py3-none-any.whl (8.1 kB)\n",
      "Collecting aiohttp>=3.10.11\n",
      "  Downloading aiohttp-3.12.13-cp310-cp310-win_amd64.whl (450 kB)\n",
      "     ---------------------------------------- 0.0/450.7 kB ? eta -:--:--\n",
      "     ------------------------------------- 450.7/450.7 kB 27.5 MB/s eta 0:00:00\n",
      "Requirement already satisfied: setuptools>=60.9.0 in c:\\users\\ryu91\\appdata\\local\\programs\\python\\python310\\lib\\site-packages (from ccxt) (63.2.0)\n",
      "Requirement already satisfied: typing-extensions>=4.4.0 in c:\\users\\ryu91\\appdata\\local\\programs\\python\\python310\\lib\\site-packages (from ccxt) (4.14.0)\n",
      "Requirement already satisfied: requests>=2.18.4 in c:\\users\\ryu91\\appdata\\local\\programs\\python\\python310\\lib\\site-packages (from ccxt) (2.28.1)\n",
      "Collecting yarl>=1.7.2\n",
      "  Downloading yarl-1.20.1-cp310-cp310-win_amd64.whl (86 kB)\n",
      "     ---------------------------------------- 0.0/86.8 kB ? eta -:--:--\n",
      "     ---------------------------------------- 86.8/86.8 kB ? eta 0:00:00\n",
      "Requirement already satisfied: certifi>=2018.1.18 in c:\\users\\ryu91\\appdata\\local\\programs\\python\\python310\\lib\\site-packages (from ccxt) (2022.9.24)\n",
      "Collecting pycares>=4.9.0\n",
      "  Downloading pycares-4.9.0-cp310-cp310-win_amd64.whl (143 kB)\n",
      "     ---------------------------------------- 0.0/143.7 kB ? eta -:--:--\n",
      "     ---------------------------------------- 143.7/143.7 kB ? eta 0:00:00\n",
      "Collecting frozenlist>=1.1.1\n",
      "  Downloading frozenlist-1.7.0-cp310-cp310-win_amd64.whl (43 kB)\n",
      "     ---------------------------------------- 0.0/43.8 kB ? eta -:--:--\n",
      "     ---------------------------------------- 43.8/43.8 kB ? eta 0:00:00\n",
      "Collecting attrs>=17.3.0\n",
      "  Downloading attrs-25.3.0-py3-none-any.whl (63 kB)\n",
      "     ---------------------------------------- 0.0/63.8 kB ? eta -:--:--\n",
      "     ---------------------------------------- 63.8/63.8 kB ? eta 0:00:00\n",
      "Collecting aiosignal>=1.1.2\n",
      "  Downloading aiosignal-1.3.2-py2.py3-none-any.whl (7.6 kB)\n",
      "Collecting multidict<7.0,>=4.5\n",
      "  Downloading multidict-6.4.4-cp310-cp310-win_amd64.whl (38 kB)\n",
      "Collecting async-timeout<6.0,>=4.0\n",
      "  Downloading async_timeout-5.0.1-py3-none-any.whl (6.2 kB)\n",
      "Collecting aiohappyeyeballs>=2.5.0\n",
      "  Downloading aiohappyeyeballs-2.6.1-py3-none-any.whl (15 kB)\n",
      "Collecting propcache>=0.2.0\n",
      "  Downloading propcache-0.3.2-cp310-cp310-win_amd64.whl (41 kB)\n",
      "     ---------------------------------------- 0.0/41.5 kB ? eta -:--:--\n",
      "     ---------------------------------------- 41.5/41.5 kB ? eta 0:00:00\n",
      "Requirement already satisfied: cffi>=1.14 in c:\\users\\ryu91\\appdata\\local\\programs\\python\\python310\\lib\\site-packages (from cryptography>=2.6.1->ccxt) (1.15.1)\n",
      "Requirement already satisfied: urllib3<1.27,>=1.21.1 in c:\\users\\ryu91\\appdata\\local\\programs\\python\\python310\\lib\\site-packages (from requests>=2.18.4->ccxt) (1.26.12)\n",
      "Requirement already satisfied: idna<4,>=2.5 in c:\\users\\ryu91\\appdata\\local\\programs\\python\\python310\\lib\\site-packages (from requests>=2.18.4->ccxt) (3.4)\n",
      "Requirement already satisfied: charset-normalizer<3,>=2 in c:\\users\\ryu91\\appdata\\local\\programs\\python\\python310\\lib\\site-packages (from requests>=2.18.4->ccxt) (2.1.1)\n",
      "Requirement already satisfied: pycparser in c:\\users\\ryu91\\appdata\\local\\programs\\python\\python310\\lib\\site-packages (from cffi>=1.14->cryptography>=2.6.1->ccxt) (2.21)\n",
      "Installing collected packages: propcache, multidict, frozenlist, attrs, async-timeout, aiohappyeyeballs, yarl, pycares, cryptography, aiosignal, aiohttp, aiodns, ccxt\n",
      "Successfully installed aiodns-3.5.0 aiohappyeyeballs-2.6.1 aiohttp-3.12.13 aiosignal-1.3.2 async-timeout-5.0.1 attrs-25.3.0 ccxt-4.4.89 cryptography-45.0.4 frozenlist-1.7.0 multidict-6.4.4 propcache-0.3.2 pycares-4.9.0 yarl-1.20.1\n"
     ]
    },
    {
     "name": "stderr",
     "output_type": "stream",
     "text": [
      "\n",
      "[notice] A new release of pip is available: 23.0.1 -> 25.1.1\n",
      "[notice] To update, run: python.exe -m pip install --upgrade pip\n"
     ]
    }
   ],
   "source": [
    "!pip install ccxt"
   ]
  },
  {
   "cell_type": "code",
   "execution_count": null,
   "id": "05f91089",
   "metadata": {},
   "outputs": [],
   "source": []
  },
  {
   "cell_type": "code",
   "execution_count": 13,
   "id": "b3843a12",
   "metadata": {},
   "outputs": [
    {
     "name": "stdout",
     "output_type": "stream",
     "text": [
      "current_time: 1749952925000 1742176925000\n",
      "          unixtime      open      high       low     close     volume  \\\n",
      "0    1742184000000   83641.1   83842.8   82630.8   83525.2  23981.245   \n",
      "1    1742198400000   83525.3   83749.9   83171.7   83475.0  18023.286   \n",
      "2    1742212800000   83475.0   84000.0   82384.0   83499.0  64260.353   \n",
      "3    1742227200000   83499.1   84727.1   83054.9   84436.2  39230.746   \n",
      "4    1742241600000   84436.2   84464.1   83700.0   83962.9  15543.474   \n",
      "..             ...       ...       ...       ...       ...        ...   \n",
      "535  1749888000000  105025.0  105088.0  104772.3  105030.6   7912.806   \n",
      "536  1749902400000  105030.5  105084.2  104570.0  104783.4  11378.285   \n",
      "537  1749916800000  104783.4  105011.0  104290.0  104582.3  18623.517   \n",
      "538  1749931200000  104584.2  105438.0  104225.4  105359.9  15565.636   \n",
      "539  1749945600000  105359.8  105631.6  105208.7  105455.4   5314.327   \n",
      "\n",
      "                         time  \n",
      "0   2025-03-17 04:00:00+00:00  \n",
      "1   2025-03-17 08:00:00+00:00  \n",
      "2   2025-03-17 12:00:00+00:00  \n",
      "3   2025-03-17 16:00:00+00:00  \n",
      "4   2025-03-17 20:00:00+00:00  \n",
      "..                        ...  \n",
      "535 2025-06-14 08:00:00+00:00  \n",
      "536 2025-06-14 12:00:00+00:00  \n",
      "537 2025-06-14 16:00:00+00:00  \n",
      "538 2025-06-14 20:00:00+00:00  \n",
      "539 2025-06-15 00:00:00+00:00  \n",
      "\n",
      "[540 rows x 7 columns]\n"
     ]
    }
   ],
   "source": [
    "import time\n",
    "import pandas as pd\n",
    "import ccxt\n",
    "\n",
    "symbol = 'BTC/USDT:USDT'\n",
    "timeframe = '4h'\n",
    "limit = 1500\n",
    "current_time = int(time.time())*1000 # 現在時間\n",
    "start_time = current_time - 60*60*24*30*3*1000 # 現在時間から90日前のデータを取得\n",
    "\n",
    "print(\"current_time:\", current_time, start_time)\n",
    "\n",
    "ex = ccxt.binanceusdm()\n",
    "ohlcv = ex.fetch_ohlcv(symbol, timeframe=timeframe, since=start_time, limit=limit)\n",
    "\n",
    "ohlcv = pd.DataFrame(ohlcv, columns=[\"unixtime\", \"open\", \"high\", \"low\", \"close\", \"volume\"])\n",
    "\n",
    "ohlcv[['open', 'high', 'low', 'close', 'volume']] = ohlcv[['open', 'high', 'low', 'close', 'volume']].astype(float)\n",
    "# print(ohlcv.info())\n",
    "# ohlcv['unixtime'] = ohlcv['unixtime'].astype(int)\n",
    "\n",
    "ohlcv['time'] = pd.to_datetime(ohlcv['unixtime'], unit='ms', utc=True)\n",
    "\n",
    "print(ohlcv)"
   ]
  },
  {
   "cell_type": "code",
   "execution_count": null,
   "id": "6bb6f0c1",
   "metadata": {},
   "outputs": [],
   "source": []
  },
  {
   "cell_type": "code",
   "execution_count": null,
   "id": "db3051a5",
   "metadata": {},
   "outputs": [],
   "source": []
  },
  {
   "cell_type": "code",
   "execution_count": null,
   "id": "1547e0d3",
   "metadata": {},
   "outputs": [],
   "source": []
  }
 ],
 "metadata": {
  "kernelspec": {
   "display_name": "finance",
   "language": "python",
   "name": "finance"
  },
  "language_info": {
   "codemirror_mode": {
    "name": "ipython",
    "version": 3
   },
   "file_extension": ".py",
   "mimetype": "text/x-python",
   "name": "python",
   "nbconvert_exporter": "python",
   "pygments_lexer": "ipython3",
   "version": "3.10.8"
  }
 },
 "nbformat": 4,
 "nbformat_minor": 5
}
